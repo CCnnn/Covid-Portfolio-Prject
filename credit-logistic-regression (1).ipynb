{
 "cells": [
  {
   "cell_type": "code",
   "execution_count": 48,
   "metadata": {
    "_cell_guid": "b1076dfc-b9ad-4769-8c92-a6c4dae69d19",
    "_uuid": "8f2839f25d086af736a60e9eeb907d3b93b6e0e5"
   },
   "outputs": [],
   "source": [
    "import numpy as np \n",
    "import pandas as pd \n",
    "import os\n",
    "for dirname, _, filenames in os.walk('/kaggle/input'):\n",
    "    for filename in filenames:\n",
    "        print(os.path.join(dirname, filename))\n",
    "        \n"
   ]
  },
  {
   "cell_type": "code",
   "execution_count": 49,
   "metadata": {},
   "outputs": [],
   "source": [
    "train_data = pd.read_csv('F:/Project DA/Credit Risk Model/cs-training.csv')\n",
    "test_data = pd.read_csv('F:/Project DA/Credit Risk Model/cs-test.csv')"
   ]
  },
  {
   "cell_type": "code",
   "execution_count": 50,
   "metadata": {},
   "outputs": [
    {
     "data": {
      "text/plain": [
       "Index(['Unnamed: 0', 'SeriousDlqin2yrs',\n",
       "       'RevolvingUtilizationOfUnsecuredLines', 'age',\n",
       "       'NumberOfTime30-59DaysPastDueNotWorse', 'DebtRatio', 'MonthlyIncome',\n",
       "       'NumberOfOpenCreditLinesAndLoans', 'NumberOfTimes90DaysLate',\n",
       "       'NumberRealEstateLoansOrLines', 'NumberOfTime60-89DaysPastDueNotWorse',\n",
       "       'NumberOfDependents'],\n",
       "      dtype='object')"
      ]
     },
     "execution_count": 50,
     "metadata": {},
     "output_type": "execute_result"
    }
   ],
   "source": [
    "#print columns headers of the dataset\n",
    "train_data.columns"
   ]
  },
  {
   "cell_type": "code",
   "execution_count": 51,
   "metadata": {},
   "outputs": [],
   "source": [
    "#drop lines with missing data (NA)\n",
    "train_data.dropna(axis=1)\n",
    "cols_with_missing = [col for col in train_data.columns\n",
    "                         if train_data[col].isnull().any()]\n",
    "reduced_train_data = train_data.drop(cols_with_missing, axis=1)\n",
    "reduced_test_data = test_data.drop(cols_with_missing,axis=1)"
   ]
  },
  {
   "cell_type": "code",
   "execution_count": 52,
   "metadata": {},
   "outputs": [
    {
     "data": {
      "text/plain": [
       "Index(['Unnamed: 0', 'SeriousDlqin2yrs',\n",
       "       'RevolvingUtilizationOfUnsecuredLines', 'age',\n",
       "       'NumberOfTime30-59DaysPastDueNotWorse', 'DebtRatio',\n",
       "       'NumberOfOpenCreditLinesAndLoans', 'NumberOfTimes90DaysLate',\n",
       "       'NumberRealEstateLoansOrLines', 'NumberOfTime60-89DaysPastDueNotWorse'],\n",
       "      dtype='object')"
      ]
     },
     "execution_count": 52,
     "metadata": {},
     "output_type": "execute_result"
    }
   ],
   "source": [
    "reduced_train_data.columns"
   ]
  },
  {
   "cell_type": "code",
   "execution_count": 53,
   "metadata": {},
   "outputs": [],
   "source": [
    "#specify the target variable\n",
    "train_y = reduced_train_data.SeriousDlqin2yrs\n",
    "test_y = reduced_test_data.SeriousDlqin2yrs"
   ]
  },
  {
   "cell_type": "code",
   "execution_count": 54,
   "metadata": {},
   "outputs": [],
   "source": [
    "#create list of features\n",
    "feature_names = ['RevolvingUtilizationOfUnsecuredLines', 'age',\n",
    "       'NumberOfTime30-59DaysPastDueNotWorse', 'DebtRatio',\n",
    "       'NumberOfOpenCreditLinesAndLoans', 'NumberOfTimes90DaysLate',\n",
    "       'NumberRealEstateLoansOrLines', 'NumberOfTime60-89DaysPastDueNotWorse']\n",
    "#create data corresponding to the features\n",
    "train_X = reduced_train_data[feature_names]\n",
    "test_X = reduced_test_data[feature_names]"
   ]
  },
  {
   "cell_type": "code",
   "execution_count": 55,
   "metadata": {},
   "outputs": [
    {
     "name": "stdout",
     "output_type": "stream",
     "text": [
      "<bound method NDFrame.describe of         RevolvingUtilizationOfUnsecuredLines  age  \\\n",
      "0                                   0.766127   45   \n",
      "1                                   0.957151   40   \n",
      "2                                   0.658180   38   \n",
      "3                                   0.233810   30   \n",
      "4                                   0.907239   49   \n",
      "...                                      ...  ...   \n",
      "149995                              0.040674   74   \n",
      "149996                              0.299745   44   \n",
      "149997                              0.246044   58   \n",
      "149998                              0.000000   30   \n",
      "149999                              0.850283   64   \n",
      "\n",
      "        NumberOfTime30-59DaysPastDueNotWorse    DebtRatio  \\\n",
      "0                                          2     0.802982   \n",
      "1                                          0     0.121876   \n",
      "2                                          1     0.085113   \n",
      "3                                          0     0.036050   \n",
      "4                                          1     0.024926   \n",
      "...                                      ...          ...   \n",
      "149995                                     0     0.225131   \n",
      "149996                                     0     0.716562   \n",
      "149997                                     0  3870.000000   \n",
      "149998                                     0     0.000000   \n",
      "149999                                     0     0.249908   \n",
      "\n",
      "        NumberOfOpenCreditLinesAndLoans  NumberOfTimes90DaysLate  \\\n",
      "0                                    13                        0   \n",
      "1                                     4                        0   \n",
      "2                                     2                        1   \n",
      "3                                     5                        0   \n",
      "4                                     7                        0   \n",
      "...                                 ...                      ...   \n",
      "149995                                4                        0   \n",
      "149996                                4                        0   \n",
      "149997                               18                        0   \n",
      "149998                                4                        0   \n",
      "149999                                8                        0   \n",
      "\n",
      "        NumberRealEstateLoansOrLines  NumberOfTime60-89DaysPastDueNotWorse  \n",
      "0                                  6                                     0  \n",
      "1                                  0                                     0  \n",
      "2                                  0                                     0  \n",
      "3                                  0                                     0  \n",
      "4                                  1                                     0  \n",
      "...                              ...                                   ...  \n",
      "149995                             1                                     0  \n",
      "149996                             1                                     0  \n",
      "149997                             1                                     0  \n",
      "149998                             0                                     0  \n",
      "149999                             2                                     0  \n",
      "\n",
      "[150000 rows x 8 columns]>\n",
      "<bound method NDFrame.head of         RevolvingUtilizationOfUnsecuredLines  age  \\\n",
      "0                                   0.766127   45   \n",
      "1                                   0.957151   40   \n",
      "2                                   0.658180   38   \n",
      "3                                   0.233810   30   \n",
      "4                                   0.907239   49   \n",
      "...                                      ...  ...   \n",
      "149995                              0.040674   74   \n",
      "149996                              0.299745   44   \n",
      "149997                              0.246044   58   \n",
      "149998                              0.000000   30   \n",
      "149999                              0.850283   64   \n",
      "\n",
      "        NumberOfTime30-59DaysPastDueNotWorse    DebtRatio  \\\n",
      "0                                          2     0.802982   \n",
      "1                                          0     0.121876   \n",
      "2                                          1     0.085113   \n",
      "3                                          0     0.036050   \n",
      "4                                          1     0.024926   \n",
      "...                                      ...          ...   \n",
      "149995                                     0     0.225131   \n",
      "149996                                     0     0.716562   \n",
      "149997                                     0  3870.000000   \n",
      "149998                                     0     0.000000   \n",
      "149999                                     0     0.249908   \n",
      "\n",
      "        NumberOfOpenCreditLinesAndLoans  NumberOfTimes90DaysLate  \\\n",
      "0                                    13                        0   \n",
      "1                                     4                        0   \n",
      "2                                     2                        1   \n",
      "3                                     5                        0   \n",
      "4                                     7                        0   \n",
      "...                                 ...                      ...   \n",
      "149995                                4                        0   \n",
      "149996                                4                        0   \n",
      "149997                               18                        0   \n",
      "149998                                4                        0   \n",
      "149999                                8                        0   \n",
      "\n",
      "        NumberRealEstateLoansOrLines  NumberOfTime60-89DaysPastDueNotWorse  \n",
      "0                                  6                                     0  \n",
      "1                                  0                                     0  \n",
      "2                                  0                                     0  \n",
      "3                                  0                                     0  \n",
      "4                                  1                                     0  \n",
      "...                              ...                                   ...  \n",
      "149995                             1                                     0  \n",
      "149996                             1                                     0  \n",
      "149997                             1                                     0  \n",
      "149998                             0                                     0  \n",
      "149999                             2                                     0  \n",
      "\n",
      "[150000 rows x 8 columns]>\n"
     ]
    }
   ],
   "source": [
    "#review data\n",
    "print(train_X.describe)\n",
    "print(train_X.head)"
   ]
  },
  {
   "cell_type": "code",
   "execution_count": 56,
   "metadata": {},
   "outputs": [],
   "source": [
    "#split train data into train and test set. \n",
    "\n",
    "from sklearn.model_selection import train_test_split\n",
    "x_train, x_test, y_train, y_test = train_test_split(train_X, train_y, test_size = 0.3, random_state = 0)"
   ]
  },
  {
   "cell_type": "code",
   "execution_count": 57,
   "metadata": {},
   "outputs": [
    {
     "data": {
      "text/plain": [
       "LogisticRegression(random_state=1, solver='liblinear')"
      ]
     },
     "execution_count": 57,
     "metadata": {},
     "output_type": "execute_result"
    }
   ],
   "source": [
    "from sklearn.linear_model import LogisticRegression\n",
    "#specify the model, set any numeric valye as parameter to ensure reproducibility \n",
    "credit_model = LogisticRegression(random_state=1, solver='liblinear')\n",
    "\n",
    "#fit the model\n",
    "credit_model.fit(x_train,y_train)"
   ]
  },
  {
   "cell_type": "code",
   "execution_count": 58,
   "metadata": {},
   "outputs": [],
   "source": [
    "#make predictions\n",
    "predictions_train = credit_model.predict(x_train)\n",
    "y_pred = credit_model.predict(x_test)"
   ]
  },
  {
   "cell_type": "code",
   "execution_count": 59,
   "metadata": {},
   "outputs": [
    {
     "name": "stdout",
     "output_type": "stream",
     "text": [
      "[0 0 0 ... 0 0 0]\n",
      "[0 0 0 ... 0 0 0]\n",
      "(45000,)\n",
      "int64\n",
      "(45000,)\n",
      "int64\n"
     ]
    }
   ],
   "source": [
    "#this section investigates resulting data, I had to do this because confusion matrix was throwing errors\n",
    "print(predictions_train)\n",
    "print(y_pred)\n",
    "print(y_pred.shape)\n",
    "print(y_pred.dtype)\n",
    "print(y_test.shape)\n",
    "print(y_test.dtype)"
   ]
  },
  {
   "cell_type": "code",
   "execution_count": 60,
   "metadata": {},
   "outputs": [],
   "source": [
    "#conver float to int\n",
    "y_predi = y_pred.astype(int)"
   ]
  },
  {
   "cell_type": "code",
   "execution_count": 61,
   "metadata": {},
   "outputs": [
    {
     "data": {
      "text/plain": [
       "(41883, 82, 2904, 131)"
      ]
     },
     "execution_count": 61,
     "metadata": {},
     "output_type": "execute_result"
    }
   ],
   "source": [
    "#create confuson matrics in text view\n",
    "from sklearn.metrics import confusion_matrix\n",
    "tn, fp, fn, tp = confusion_matrix( y_test,y_predi).ravel()\n",
    "(tn, fp, fn, tp)"
   ]
  },
  {
   "cell_type": "code",
   "execution_count": 62,
   "metadata": {},
   "outputs": [
    {
     "data": {
      "text/plain": [
       "<matplotlib.axes._subplots.AxesSubplot at 0x1e5d8e9da88>"
      ]
     },
     "execution_count": 62,
     "metadata": {},
     "output_type": "execute_result"
    },
    {
     "data": {
      "image/png": "[encoded data removed]",
      "text/plain": [
       "<Figure size 432x432 with 2 Axes>"
      ]
     },
     "metadata": {
      "needs_background": "light"
     },
     "output_type": "display_data"
    }
   ],
   "source": [
    "#create consusion matrix and plot\n",
    "import scikitplot as skplt\n",
    "skplt.metrics.plot_confusion_matrix(y_test,y_predi,figsize=(6,6))"
   ]
  },
  {
   "cell_type": "code",
   "execution_count": 63,
   "metadata": {},
   "outputs": [
    {
     "name": "stdout",
     "output_type": "stream",
     "text": [
      "[0.         0.00195401 1.        ]\n",
      "(3,)\n",
      "[0.        0.0431631 1.       ]\n",
      "(3,)\n",
      "[2 1 0]\n"
     ]
    }
   ],
   "source": [
    "from sklearn import metrics\n",
    "#calculate ROC\n",
    "fpr, tpr, thresholds = metrics.roc_curve(y_test, y_predi)\n",
    "print(fpr)\n",
    "print(fpr.shape)\n",
    "print(tpr)\n",
    "print(tpr.shape)\n",
    "print(thresholds)"
   ]
  },
  {
   "cell_type": "code",
   "execution_count": 64,
   "metadata": {},
   "outputs": [
    {
     "name": "stdout",
     "output_type": "stream",
     "text": [
      "0.5206045439529412\n"
     ]
    }
   ],
   "source": [
    "from sklearn import metrics\n",
    "#calculate AUC\n",
    "roc_auc = metrics.auc(fpr, tpr)\n",
    "print(roc_auc)"
   ]
  },
  {
   "cell_type": "code",
   "execution_count": 65,
   "metadata": {},
   "outputs": [
    {
     "data": {
      "image/png": "[encoded data removed]",
      "text/plain": [
       "<Figure size 432x288 with 1 Axes>"
      ]
     },
     "metadata": {
      "needs_background": "light"
     },
     "output_type": "display_data"
    }
   ],
   "source": [
    "# method I: plt\n",
    "import matplotlib.pyplot as plt\n",
    "plt.title('Receiver Operating Characteristic')\n",
    "plt.plot(fpr, tpr, 'b', label = 'AUC = %0.2f' % roc_auc)\n",
    "plt.legend(loc = 'lower right')\n",
    "plt.plot([0, 1], [0, 1],'r--')\n",
    "plt.xlim([0, 1])\n",
    "plt.ylim([0, 1])\n",
    "plt.ylabel('True Positive Rate')\n",
    "plt.xlabel('False Positive Rate')\n",
    "plt.show()"
   ]
  },
  {
   "cell_type": "code",
   "execution_count": 66,
   "metadata": {},
   "outputs": [
    {
     "data": {
      "text/plain": [
       "0.08066502463054187"
      ]
     },
     "execution_count": 66,
     "metadata": {},
     "output_type": "execute_result"
    }
   ],
   "source": [
    "#calculate F1 score\n",
    "from sklearn.metrics import f1_score\n",
    "f1_score(y_test, y_predi) #do we need to use average=None as the third param?"
   ]
  },
  {
   "cell_type": "code",
   "execution_count": 67,
   "metadata": {},
   "outputs": [
    {
     "data": {
      "text/plain": [
       "0.9336444444444445"
      ]
     },
     "execution_count": 67,
     "metadata": {},
     "output_type": "execute_result"
    }
   ],
   "source": [
    "#accuracy score\n",
    "from sklearn.metrics import accuracy_score\n",
    "accuracy_score(y_test, y_predi) #do we need to use normalize=False as the third param?"
   ]
  },
  {
   "cell_type": "code",
   "execution_count": 68,
   "metadata": {},
   "outputs": [
    {
     "data": {
      "text/plain": [
       "0.6150234741784038"
      ]
     },
     "execution_count": 68,
     "metadata": {},
     "output_type": "execute_result"
    }
   ],
   "source": [
    "#precision\n",
    "from sklearn.metrics import precision_score\n",
    "precision_score(y_test, y_predi)"
   ]
  },
  {
   "cell_type": "code",
   "execution_count": 69,
   "metadata": {},
   "outputs": [
    {
     "data": {
      "text/plain": [
       "0.04316309719934102"
      ]
     },
     "execution_count": 69,
     "metadata": {},
     "output_type": "execute_result"
    }
   ],
   "source": [
    "#recall\n",
    "from sklearn.metrics import recall_score\n",
    "recall_score(y_test, y_predi)"
   ]
  },
  {
   "cell_type": "code",
   "execution_count": 70,
   "metadata": {},
   "outputs": [
    {
     "name": "stdout",
     "output_type": "stream",
     "text": [
      "0.9980520714557203\n"
     ]
    }
   ],
   "source": [
    "#cost-sensitive accuracy\n",
    "fp_cost = 1\n",
    "fn_cost = 0\n",
    "cost_sensitive_accuracy = (tp + tn) / (tp + tn + fp*fp_cost + fn*fn_cost)\n",
    "print(cost_sensitive_accuracy)"
   ]
  }
 ],
 "metadata": {
  "kernelspec": {
   "display_name": "Python 3",
   "language": "python",
   "name": "python3"
  },
  "language_info": {
   "codemirror_mode": {
    "name": "ipython",
    "version": 3
   },
   "file_extension": ".py",
   "mimetype": "text/x-python",
   "name": "python",
   "nbconvert_exporter": "python",
   "pygments_lexer": "ipython3",
   "version": "3.7.6"
  }
 },
 "nbformat": 4,
 "nbformat_minor": 4
}
